{
 "cells": [
  {
   "cell_type": "code",
   "execution_count": null,
   "metadata": {},
   "outputs": [],
   "source": [
    "%cd /home/ubuntu\n",
    "!sudo apt -y install -qq aria2\n",
    "!pip install -q xformers==0.0.20 triton==2.0.0 -U\n",
    "!pip install -q mediapipe==0.9.1.0 addict yapf fvcore omegaconf\n",
    "!git clone -b v1.3 https://github.com/camenduru/ComfyUI\n",
    "%cd /home/ubuntu/ComfyUI\n",
    "!pip install -q -r requirements.txt\n",
    "\n",
    "!sudo apt update\n",
    "!curl -sL https://deb.nodesource.com/setup_16.x | sudo -E bash -\n",
    "!sudo apt install nodejs -y\n",
    "!sudo apt install npm -y\n",
    "!sudo npm install -g npm\n",
    "!sudo npm install -g localtunnel\n",
    "import subprocess\n",
    "import threading\n",
    "import time\n",
    "import socket\n",
    "def iframe_thread(port):\n",
    "    while True:\n",
    "        time.sleep(0.5)\n",
    "        sock = socket.socket(socket.AF_INET, socket.SOCK_STREAM)\n",
    "        result = sock.connect_ex(('127.0.0.1', port))\n",
    "        if result == 0:\n",
    "            break\n",
    "        sock.close()\n",
    "    p = subprocess.Popen([\"lt\", \"--port\", \"{}\".format(port)], stdout=subprocess.PIPE)\n",
    "    for line in p.stdout:\n",
    "        print(line.decode(), end='')\n",
    "threading.Thread(target=iframe_thread, daemon=True, args=(7860,)).start()\n",
    "\n",
    "!aria2c --console-log-level=error -c -x 16 -s 16 -k 1M https://github.com/xinntao/Real-ESRGAN/releases/download/v0.2.1/RealESRGAN_x2plus.pth -d /home/ubuntu/ComfyUI/models/upscale_models -o RealESRGAN_x2plus.pth\n",
    "base = \"\"\n",
    "!aria2c --console-log-level=error -c -x 16 -s 16 -k 1M {base} -d /home/ubuntu/ComfyUI/models/checkpoints -o sd_xl_base_0.9.safetensors\n",
    "refiner = \"\"\n",
    "!aria2c --console-log-level=error -c -x 16 -s 16 -k 1M {refiner} -d /home/ubuntu/ComfyUI/models/checkpoints -o sd_xl_refiner_0.9.safetensors\n",
    "!curl ipv4.icanhazip.com\n",
    "!python main.py --dont-print-server"
   ]
  }
 ],
 "metadata": {
  "language_info": {
   "name": "python"
  },
  "orig_nbformat": 4
 },
 "nbformat": 4,
 "nbformat_minor": 2
}
